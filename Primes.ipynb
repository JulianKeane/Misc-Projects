{
 "cells": [
  {
   "cell_type": "code",
   "execution_count": 17,
   "metadata": {},
   "outputs": [],
   "source": [
    "'''\n",
    " Determines whether a number is prime or not based on the Fundamental Theorem of Arithmetic.\n",
    " Using a list of prime numbers, we can see whether or not a given number is prime.\n",
    " This function is intended to be used with findNPrimes, as that function gives primeNum a less arbitrary value.\n",
    " \n",
    " num is an integer value, and is the number you are checking is prime\n",
    " primeNum is intended to be used as a list of all prime numbers below num\n",
    "'''\n",
    "\n",
    "def isPrime(num, primeNum):\n",
    "    for prime in primeNum:\n",
    "        if num%prime == 0:\n",
    "            return False\n",
    "    return True"
   ]
  },
  {
   "cell_type": "code",
   "execution_count": 26,
   "metadata": {},
   "outputs": [],
   "source": [
    "'''\n",
    " Goes through the reals until you reach the Nth prime number.\n",
    " \n",
    " N is the amount of primes you want to find\n",
    " primes is a list of prime numbers, orginally defined as being 2.\n",
    " \n",
    " findNPrimes(4) --> [2, 3, 5, 7]\n",
    " \n",
    "'''\n",
    "\n",
    "def findNPrimes(N, primes = [2]):\n",
    "    num = 3\n",
    "    while len(primes) < N:\n",
    "        if isPrime(num, primes):\n",
    "            primes.append(num)\n",
    "        #iterating by two since any even numbers cannot be prime\n",
    "        num = num + 2\n",
    "    return primes[0:N]"
   ]
  }
 ],
 "metadata": {
  "kernelspec": {
   "display_name": "Python 3",
   "language": "python",
   "name": "python3"
  },
  "language_info": {
   "codemirror_mode": {
    "name": "ipython",
    "version": 3
   },
   "file_extension": ".py",
   "mimetype": "text/x-python",
   "name": "python",
   "nbconvert_exporter": "python",
   "pygments_lexer": "ipython3",
   "version": "3.6.4"
  }
 },
 "nbformat": 4,
 "nbformat_minor": 2
}
